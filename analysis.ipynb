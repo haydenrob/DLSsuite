{
 "cells": [
  {
   "cell_type": "markdown",
   "metadata": {},
   "source": [
    "# Analysis of DLS data\n",
    "This Jupyter Notebook is designed for the analysis of 2D DLS data. \n",
    "- `df` should be a list of `.dat` files to be analysed and can be created with `glob`.\n",
    "- Loaded DLS data is then fit to the `Cumulant` function to obtain required `gamma` values for each angle.\n",
    "- For a given condition, each a plot of $\\Gamma$ vs $q^2$ (which is a function of $\\theta$) is made, where the gradient of the line of best fit is the diffusion coefficent. \n",
    "- The radius of hydration is then deduced using the Stokes-Einstein equation for each condition (i.e., temperature)."
   ]
  },
  {
   "cell_type": "code",
   "execution_count": 1,
   "metadata": {},
   "outputs": [],
   "source": [
    "import numpy as np\n",
    "import matplotlib.pyplot as plt\n",
    "import scipy\n",
    "from scipy.optimize import curve_fit\n",
    "from scipy import stats\n",
    "import glob\n",
    "import natsort\n",
    "from tqdm import tqdm\n",
    "\n",
    "from dls_analysis import (\n",
    "    Cumulant,\n",
    "    grab_metadata,\n",
    "    data_loader,\n",
    "    plot_data,\n",
    "    q,\n",
    "    plot_gamma,\n",
    "    stokes_einstein,\n",
    ")"
   ]
  },
  {
   "cell_type": "code",
   "execution_count": 2,
   "metadata": {},
   "outputs": [
    {
     "name": "stdout",
     "output_type": "stream",
     "text": [
      "1.26.4 1.13.1\n"
     ]
    }
   ],
   "source": [
    "print(np.__version__, scipy.__version__)"
   ]
  },
  {
   "cell_type": "code",
   "execution_count": 3,
   "metadata": {},
   "outputs": [],
   "source": [
    "heatingcooling = True\n",
    "plot = False"
   ]
  },
  {
   "cell_type": "markdown",
   "metadata": {},
   "source": [
    "### Point `df` to the folder where your DLS data is saved"
   ]
  },
  {
   "cell_type": "code",
   "execution_count": 4,
   "metadata": {},
   "outputs": [],
   "source": [
    "df = glob.glob(\"data/Measurement*.dat\")\n",
    "df = natsort.natsorted(df)"
   ]
  },
  {
   "cell_type": "markdown",
   "metadata": {},
   "source": [
    "Load in the data files and fit the `Cumulant` function to them. Save results to an array."
   ]
  },
  {
   "cell_type": "code",
   "execution_count": 5,
   "metadata": {},
   "outputs": [],
   "source": [
    "results = []"
   ]
  },
  {
   "cell_type": "code",
   "execution_count": 6,
   "metadata": {},
   "outputs": [
    {
     "name": "stderr",
     "output_type": "stream",
     "text": [
      "  0%|          | 0/3895 [00:00<?, ?it/s]"
     ]
    },
    {
     "name": "stderr",
     "output_type": "stream",
     "text": [
      "100%|██████████| 3895/3895 [00:43<00:00, 89.32it/s] \n"
     ]
    }
   ],
   "source": [
    "for fh in tqdm(df):\n",
    "    temp, theta = grab_metadata(fh)\n",
    "    x, y = data_loader(fh)\n",
    "\n",
    "    params, covariances = curve_fit(Cumulant, xdata=x, ydata=y)\n",
    "    param_errs = np.sqrt(np.diag(covariances))\n",
    "    gamma = params[1]\n",
    "    gamma_err = param_errs[1]\n",
    "\n",
    "    if plot:\n",
    "        plot_data(x, y, params, temp, theta)\n",
    "\n",
    "    results.append([temp, theta, params, param_errs])"
   ]
  },
  {
   "cell_type": "markdown",
   "metadata": {},
   "source": [
    "##### Process the results and separate by condition (i.e., temperature)"
   ]
  },
  {
   "cell_type": "code",
   "execution_count": 7,
   "metadata": {},
   "outputs": [
    {
     "name": "stderr",
     "output_type": "stream",
     "text": [
      "100%|██████████| 3895/3895 [00:00<00:00, 3858482.31it/s]\n"
     ]
    }
   ],
   "source": [
    "ti = 0  # set initial temp for loop\n",
    "data = []\n",
    "\n",
    "processed_results = {}\n",
    "\n",
    "for i, r in enumerate(tqdm(results)):\n",
    "    if r[0] == ti:\n",
    "        data.append(r)\n",
    "\n",
    "    else:\n",
    "        processed_results[i] = data\n",
    "        ti = r[0]\n",
    "        data = []\n",
    "        data.append(r)\n",
    "\n",
    "processed_results[i] = data\n",
    "del processed_results[0]"
   ]
  },
  {
   "cell_type": "markdown",
   "metadata": {},
   "source": [
    "### Take the results (`processed_results`) and extract the diffusion coefficient from the gradient of $\\Gamma$ vs $q^2$. Save deduced radius of hydration in `swelling_curve` array."
   ]
  },
  {
   "cell_type": "code",
   "execution_count": 8,
   "metadata": {},
   "outputs": [
    {
     "name": "stderr",
     "output_type": "stream",
     "text": [
      "100%|██████████| 37/37 [00:00<00:00, 436.08it/s]\n"
     ]
    }
   ],
   "source": [
    "swelling_curve = []\n",
    "angle_min = 0  # change this value to exlude some scattering angles\n",
    "\n",
    "for k in tqdm(processed_results.keys()):\n",
    "    df = processed_results[k]\n",
    "\n",
    "    temp = df[0][0]\n",
    "    gamma = []\n",
    "    qs = []\n",
    "    for i in df:\n",
    "        if i[1] > angle_min:\n",
    "            gamma.append(i[2][1])\n",
    "            qs.append(q(i[1]))\n",
    "\n",
    "    gamma = np.array(gamma)\n",
    "    qs = np.array(qs)\n",
    "\n",
    "    # ORGANISE IF THERE ARE MULTIPLE MEASUREMENTS AT EACH ANGLE\n",
    "\n",
    "    uniq = []\n",
    "\n",
    "    for xi in np.unique(qs**2):\n",
    "        idx = np.where(qs**2 == xi)[0]\n",
    "\n",
    "        uniq.append([xi, np.mean(gamma[idx]), np.std(gamma[idx])])\n",
    "\n",
    "    uniq = np.array(uniq)\n",
    "\n",
    "    # CALCULATE D, EXLUDING DATA POINTS BASED ON R^2 VALUE\n",
    "    r2_threshold = 0.995  # change this to desired threshold\n",
    "\n",
    "    D, b, r_value, p_value, std_err = stats.linregress(uniq[:, 0], uniq[:, 1])\n",
    "\n",
    "    i = 0\n",
    "    while r_value**2 < r2_threshold:\n",
    "        i += 1\n",
    "        D, b, r_value, p_value, std_err = stats.linregress(\n",
    "            uniq[:-i, 0], uniq[:-i, 1]\n",
    "        )\n",
    "\n",
    "    if plot:\n",
    "        plot_gamma(uniq, D, b, r_value, temp, i)\n",
    "\n",
    "    rH, rH_err = stokes_einstein(temp, D, std_err)\n",
    "    swelling_curve.append([temp, rH, rH_err])\n",
    "\n",
    "swelling_curve = np.array(swelling_curve)"
   ]
  },
  {
   "cell_type": "markdown",
   "metadata": {},
   "source": [
    "##### Plot the resultant swelling curve and save"
   ]
  },
  {
   "cell_type": "code",
   "execution_count": 9,
   "metadata": {},
   "outputs": [
    {
     "data": {
      "image/png": "[encoded data removed]",
      "text/plain": [
       "<Figure size 640x480 with 1 Axes>"
      ]
     },
     "metadata": {},
     "output_type": "display_data"
    }
   ],
   "source": [
    "fig, ax = plt.subplots()\n",
    "\n",
    "if heatingcooling:\n",
    "    l = int(len(swelling_curve) / 2)\n",
    "    ax.errorbar(\n",
    "        swelling_curve[:l, 0],\n",
    "        swelling_curve[:l, 1],\n",
    "        yerr=rH_err,\n",
    "        label=\"Heating\",\n",
    "        ls=\"\",\n",
    "        marker=\"o\",\n",
    "    )\n",
    "    ax.errorbar(\n",
    "        swelling_curve[l:, 0],\n",
    "        swelling_curve[l:, 1],\n",
    "        yerr=rH_err,\n",
    "        label=\"Cooling\",\n",
    "        ls=\"\",\n",
    "        marker=\"s\",\n",
    "    )\n",
    "else:\n",
    "    ax.errorbar(swelling_curve[:, 0], swelling_curve[:, 1], yerr=rH_err)\n",
    "\n",
    "ax.set_xlabel(\"Temperature, ˚C\")\n",
    "ax.set_ylabel(\"Radius of Hydration, nm\")\n",
    "ax.legend()\n",
    "\n",
    "fig.tight_layout()\n",
    "# fig.savefig('plots/_swelling_curve.pdf')"
   ]
  },
  {
   "cell_type": "markdown",
   "metadata": {},
   "source": [
    "Export `swelling_curve` as a `.csv`"
   ]
  },
  {
   "cell_type": "code",
   "execution_count": 10,
   "metadata": {},
   "outputs": [],
   "source": [
    "np.savetxt(\n",
    "    \"swelling_curve.csv\", swelling_curve, header=\"temp, r, r_err\", delimiter=\",\"\n",
    ")"
   ]
  },
  {
   "cell_type": "code",
   "execution_count": null,
   "metadata": {},
   "outputs": [],
   "source": []
  }
 ],
 "metadata": {
  "kernelspec": {
   "display_name": "sandbox",
   "language": "python",
   "name": "python3"
  },
  "language_info": {
   "codemirror_mode": {
    "name": "ipython",
    "version": 3
   },
   "file_extension": ".py",
   "mimetype": "text/x-python",
   "name": "python",
   "nbconvert_exporter": "python",
   "pygments_lexer": "ipython3",
   "version": "3.12.3"
  }
 },
 "nbformat": 4,
 "nbformat_minor": 2
}
